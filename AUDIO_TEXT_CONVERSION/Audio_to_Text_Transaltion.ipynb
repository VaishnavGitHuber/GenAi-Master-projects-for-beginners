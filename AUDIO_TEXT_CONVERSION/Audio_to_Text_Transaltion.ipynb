{
  "nbformat": 4,
  "nbformat_minor": 0,
  "metadata": {
    "colab": {
      "provenance": []
    },
    "kernelspec": {
      "name": "python3",
      "display_name": "Python 3"
    },
    "language_info": {
      "name": "python"
    }
  },
  "cells": [
    {
      "cell_type": "code",
      "execution_count": 1,
      "metadata": {
        "colab": {
          "base_uri": "https://localhost:8080/"
        },
        "id": "TVd1HAlnZMy6",
        "outputId": "ccbb088f-f6ac-46eb-aab5-8ef04b0cf611"
      },
      "outputs": [
        {
          "output_type": "stream",
          "name": "stdout",
          "text": [
            "Requirement already satisfied: openai in /usr/local/lib/python3.12/dist-packages (1.109.1)\n",
            "Requirement already satisfied: anyio<5,>=3.5.0 in /usr/local/lib/python3.12/dist-packages (from openai) (4.11.0)\n",
            "Requirement already satisfied: distro<2,>=1.7.0 in /usr/local/lib/python3.12/dist-packages (from openai) (1.9.0)\n",
            "Requirement already satisfied: httpx<1,>=0.23.0 in /usr/local/lib/python3.12/dist-packages (from openai) (0.28.1)\n",
            "Requirement already satisfied: jiter<1,>=0.4.0 in /usr/local/lib/python3.12/dist-packages (from openai) (0.11.0)\n",
            "Requirement already satisfied: pydantic<3,>=1.9.0 in /usr/local/lib/python3.12/dist-packages (from openai) (2.11.9)\n",
            "Requirement already satisfied: sniffio in /usr/local/lib/python3.12/dist-packages (from openai) (1.3.1)\n",
            "Requirement already satisfied: tqdm>4 in /usr/local/lib/python3.12/dist-packages (from openai) (4.67.1)\n",
            "Requirement already satisfied: typing-extensions<5,>=4.11 in /usr/local/lib/python3.12/dist-packages (from openai) (4.15.0)\n",
            "Requirement already satisfied: idna>=2.8 in /usr/local/lib/python3.12/dist-packages (from anyio<5,>=3.5.0->openai) (3.10)\n",
            "Requirement already satisfied: certifi in /usr/local/lib/python3.12/dist-packages (from httpx<1,>=0.23.0->openai) (2025.8.3)\n",
            "Requirement already satisfied: httpcore==1.* in /usr/local/lib/python3.12/dist-packages (from httpx<1,>=0.23.0->openai) (1.0.9)\n",
            "Requirement already satisfied: h11>=0.16 in /usr/local/lib/python3.12/dist-packages (from httpcore==1.*->httpx<1,>=0.23.0->openai) (0.16.0)\n",
            "Requirement already satisfied: annotated-types>=0.6.0 in /usr/local/lib/python3.12/dist-packages (from pydantic<3,>=1.9.0->openai) (0.7.0)\n",
            "Requirement already satisfied: pydantic-core==2.33.2 in /usr/local/lib/python3.12/dist-packages (from pydantic<3,>=1.9.0->openai) (2.33.2)\n",
            "Requirement already satisfied: typing-inspection>=0.4.0 in /usr/local/lib/python3.12/dist-packages (from pydantic<3,>=1.9.0->openai) (0.4.2)\n"
          ]
        }
      ],
      "source": [
        "!pip install openai"
      ]
    },
    {
      "cell_type": "code",
      "source": [
        "import os\n",
        "import openai\n",
        "from openai import OpenAI\n",
        "os.environ[\"OPENAI_API_KEY\"] = \"\""
      ],
      "metadata": {
        "id": "Rho1j_o9ZX1g"
      },
      "execution_count": 2,
      "outputs": []
    },
    {
      "cell_type": "code",
      "source": [
        "client = OpenAI()\n",
        "malayalam_audio_file_path = \"/content/malayalam_audio.m4a\""
      ],
      "metadata": {
        "id": "IEHg1VxjZonu"
      },
      "execution_count": 3,
      "outputs": []
    },
    {
      "cell_type": "code",
      "source": [
        "with open(malayalam_audio_file_path, 'rb') as audio_file:\n",
        "  translation = client.audio.translations.create(\n",
        "      model = 'whisper-1',\n",
        "      file = audio_file\n",
        "  )\n",
        "print(f\"Translated Text: {translation.text}\")"
      ],
      "metadata": {
        "colab": {
          "base_uri": "https://localhost:8080/"
        },
        "id": "cuh042v4Z0RF",
        "outputId": "ed5b94e3-117a-496e-d520-860ad9641682"
      },
      "execution_count": 7,
      "outputs": [
        {
          "output_type": "stream",
          "name": "stdout",
          "text": [
            "Translated Text: My name is Vaishnav. I am from Kerala.\n"
          ]
        }
      ]
    },
    {
      "cell_type": "code",
      "source": [
        "tamil_audio_file_path = \"/content/tamil_audio.m4a\"\n",
        "\n",
        "with open(tamil_audio_file_path, 'rb') as audio_file:\n",
        "  translation = client.audio.translations.create(\n",
        "      model = 'whisper-1',\n",
        "      file = audio_file\n",
        "  )\n",
        "print(f\"Translated Text: {translation.text}\")"
      ],
      "metadata": {
        "colab": {
          "base_uri": "https://localhost:8080/"
        },
        "id": "DX-hDgzubF84",
        "outputId": "033808b9-1108-4f06-d3d8-ef8602fcb2ee"
      },
      "execution_count": 6,
      "outputs": [
        {
          "output_type": "stream",
          "name": "stdout",
          "text": [
            "Translated Text: My name is Gugul. I'm here to do my Ph.D. I've done my program and project here and I'm here to send it to college.\n"
          ]
        }
      ]
    },
    {
      "cell_type": "code",
      "source": [
        "indonesian_audio_path_file = \"/content/indonesian_audio.m4a\"\n",
        "\n",
        "with open(indonesian_audio_path_file, 'rb') as audio_file:\n",
        "  translation = client.audio.translations.create(\n",
        "      model = 'whisper-1',\n",
        "      file = audio_file\n",
        "  )\n",
        "print(f\"Translated Text: {translation.text}\")"
      ],
      "metadata": {
        "colab": {
          "base_uri": "https://localhost:8080/"
        },
        "id": "Q3lR50AYihw1",
        "outputId": "72df38f3-8a81-45cd-f5b0-34b0369e71de"
      },
      "execution_count": 8,
      "outputs": [
        {
          "output_type": "stream",
          "name": "stdout",
          "text": [
            "Translated Text: Hello, my name is Tude. I'm from Indonesia. I like Taiwan.\n"
          ]
        }
      ]
    }
  ]
}